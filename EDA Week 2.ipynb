{
 "cells": [
  {
   "cell_type": "code",
   "execution_count": 690,
   "id": "a868ac9d",
   "metadata": {},
   "outputs": [],
   "source": [
    "import pandas as pd\n",
    "import seaborn as sns\n",
    "import matplotlib.pyplot as plt"
   ]
  },
  {
   "cell_type": "markdown",
   "id": "31cbb703",
   "metadata": {},
   "source": [
    "## Loading CSVs Datasets."
   ]
  },
  {
   "cell_type": "code",
   "execution_count": 641,
   "id": "80e042c6",
   "metadata": {},
   "outputs": [],
   "source": [
    "Cab_Data= pd.read_csv(\"Cab_Data.csv\")\n",
    "Customer_Data= pd.read_csv(\"Customer_ID.csv\")\n",
    "Transaction_data= pd.read_csv(\"Transaction_ID.csv\")\n",
    "City_Data= pd.read_csv(\"City.csv\")"
   ]
  },
  {
   "cell_type": "markdown",
   "id": "e038ff71",
   "metadata": {},
   "source": [
    "## Merge the datasets"
   ]
  },
  {
   "cell_type": "code",
   "execution_count": 643,
   "id": "1fdb893b",
   "metadata": {},
   "outputs": [],
   "source": [
    "combined_df= pd.merge(Transaction_data, Customer_Data)"
   ]
  },
  {
   "cell_type": "code",
   "execution_count": 644,
   "id": "a51413f1",
   "metadata": {},
   "outputs": [],
   "source": [
    "combined_df= pd.merge(combined_df, Cab_Data)"
   ]
  },
  {
   "cell_type": "code",
   "execution_count": 801,
   "id": "c064fedc",
   "metadata": {},
   "outputs": [
    {
     "data": {
      "text/html": [
       "<div>\n",
       "<style scoped>\n",
       "    .dataframe tbody tr th:only-of-type {\n",
       "        vertical-align: middle;\n",
       "    }\n",
       "\n",
       "    .dataframe tbody tr th {\n",
       "        vertical-align: top;\n",
       "    }\n",
       "\n",
       "    .dataframe thead th {\n",
       "        text-align: right;\n",
       "    }\n",
       "</style>\n",
       "<table border=\"1\" class=\"dataframe\">\n",
       "  <thead>\n",
       "    <tr style=\"text-align: right;\">\n",
       "      <th></th>\n",
       "      <th>Company</th>\n",
       "      <th>Customer ID</th>\n",
       "      <th>Gender</th>\n",
       "      <th>Age</th>\n",
       "      <th>City</th>\n",
       "      <th>Date of Travel</th>\n",
       "      <th>KM Travelled</th>\n",
       "      <th>Cost of Trip</th>\n",
       "      <th>Price Charged</th>\n",
       "      <th>Payment_Mode</th>\n",
       "      <th>Profit</th>\n",
       "    </tr>\n",
       "  </thead>\n",
       "  <tbody>\n",
       "    <tr>\n",
       "      <th>1</th>\n",
       "      <td>Yellow Cab</td>\n",
       "      <td>29290</td>\n",
       "      <td>Male</td>\n",
       "      <td>28</td>\n",
       "      <td>ATLANTA GA</td>\n",
       "      <td>2018-07-21</td>\n",
       "      <td>26.19</td>\n",
       "      <td>317.42</td>\n",
       "      <td>598.70</td>\n",
       "      <td>Cash</td>\n",
       "      <td>281.28</td>\n",
       "    </tr>\n",
       "    <tr>\n",
       "      <th>2</th>\n",
       "      <td>Yellow Cab</td>\n",
       "      <td>29290</td>\n",
       "      <td>Male</td>\n",
       "      <td>28</td>\n",
       "      <td>ATLANTA GA</td>\n",
       "      <td>2018-11-23</td>\n",
       "      <td>42.55</td>\n",
       "      <td>597.40</td>\n",
       "      <td>792.05</td>\n",
       "      <td>Card</td>\n",
       "      <td>194.65</td>\n",
       "    </tr>\n",
       "    <tr>\n",
       "      <th>4</th>\n",
       "      <td>Yellow Cab</td>\n",
       "      <td>27703</td>\n",
       "      <td>Male</td>\n",
       "      <td>27</td>\n",
       "      <td>ATLANTA GA</td>\n",
       "      <td>2018-04-21</td>\n",
       "      <td>36.38</td>\n",
       "      <td>467.12</td>\n",
       "      <td>721.10</td>\n",
       "      <td>Card</td>\n",
       "      <td>253.98</td>\n",
       "    </tr>\n",
       "    <tr>\n",
       "      <th>5</th>\n",
       "      <td>Yellow Cab</td>\n",
       "      <td>27703</td>\n",
       "      <td>Male</td>\n",
       "      <td>27</td>\n",
       "      <td>ATLANTA GA</td>\n",
       "      <td>2018-05-04</td>\n",
       "      <td>6.18</td>\n",
       "      <td>87.51</td>\n",
       "      <td>138.40</td>\n",
       "      <td>Cash</td>\n",
       "      <td>50.89</td>\n",
       "    </tr>\n",
       "    <tr>\n",
       "      <th>6</th>\n",
       "      <td>Pink Cab</td>\n",
       "      <td>27703</td>\n",
       "      <td>Male</td>\n",
       "      <td>27</td>\n",
       "      <td>ATLANTA GA</td>\n",
       "      <td>2018-10-27</td>\n",
       "      <td>13.39</td>\n",
       "      <td>141.93</td>\n",
       "      <td>167.03</td>\n",
       "      <td>Card</td>\n",
       "      <td>25.10</td>\n",
       "    </tr>\n",
       "  </tbody>\n",
       "</table>\n",
       "</div>"
      ],
      "text/plain": [
       "      Company  Customer ID Gender  Age        City Date of Travel  \\\n",
       "1  Yellow Cab        29290   Male   28  ATLANTA GA     2018-07-21   \n",
       "2  Yellow Cab        29290   Male   28  ATLANTA GA     2018-11-23   \n",
       "4  Yellow Cab        27703   Male   27  ATLANTA GA     2018-04-21   \n",
       "5  Yellow Cab        27703   Male   27  ATLANTA GA     2018-05-04   \n",
       "6    Pink Cab        27703   Male   27  ATLANTA GA     2018-10-27   \n",
       "\n",
       "   KM Travelled  Cost of Trip  Price Charged Payment_Mode  Profit  \n",
       "1         26.19        317.42         598.70         Cash  281.28  \n",
       "2         42.55        597.40         792.05         Card  194.65  \n",
       "4         36.38        467.12         721.10         Card  253.98  \n",
       "5          6.18         87.51         138.40         Cash   50.89  \n",
       "6         13.39        141.93         167.03         Card   25.10  "
      ]
     },
     "execution_count": 801,
     "metadata": {},
     "output_type": "execute_result"
    }
   ],
   "source": [
    "combined_df.head()"
   ]
  },
  {
   "cell_type": "code",
   "execution_count": 802,
   "id": "7a275d0e",
   "metadata": {},
   "outputs": [],
   "source": [
    "City_Company= pd.merge(City_Data, Cab_Data, left_on=\"City\", right_on=[\"City\"])"
   ]
  },
  {
   "cell_type": "code",
   "execution_count": 803,
   "id": "16a4559e",
   "metadata": {},
   "outputs": [
    {
     "data": {
      "text/html": [
       "<div>\n",
       "<style scoped>\n",
       "    .dataframe tbody tr th:only-of-type {\n",
       "        vertical-align: middle;\n",
       "    }\n",
       "\n",
       "    .dataframe tbody tr th {\n",
       "        vertical-align: top;\n",
       "    }\n",
       "\n",
       "    .dataframe thead th {\n",
       "        text-align: right;\n",
       "    }\n",
       "</style>\n",
       "<table border=\"1\" class=\"dataframe\">\n",
       "  <thead>\n",
       "    <tr style=\"text-align: right;\">\n",
       "      <th></th>\n",
       "      <th>City</th>\n",
       "      <th>Population</th>\n",
       "      <th>Users</th>\n",
       "      <th>Transaction ID</th>\n",
       "      <th>Date of Travel</th>\n",
       "      <th>Company</th>\n",
       "      <th>KM Travelled</th>\n",
       "      <th>Price Charged</th>\n",
       "      <th>Cost of Trip</th>\n",
       "    </tr>\n",
       "  </thead>\n",
       "  <tbody>\n",
       "    <tr>\n",
       "      <th>0</th>\n",
       "      <td>NEW YORK NY</td>\n",
       "      <td>8,405,837</td>\n",
       "      <td>302,149</td>\n",
       "      <td>10000139</td>\n",
       "      <td>2016-01-08</td>\n",
       "      <td>Pink Cab</td>\n",
       "      <td>17.85</td>\n",
       "      <td>242.90</td>\n",
       "      <td>198.14</td>\n",
       "    </tr>\n",
       "    <tr>\n",
       "      <th>1</th>\n",
       "      <td>NEW YORK NY</td>\n",
       "      <td>8,405,837</td>\n",
       "      <td>302,149</td>\n",
       "      <td>10000140</td>\n",
       "      <td>2016-01-09</td>\n",
       "      <td>Pink Cab</td>\n",
       "      <td>25.30</td>\n",
       "      <td>407.21</td>\n",
       "      <td>255.53</td>\n",
       "    </tr>\n",
       "    <tr>\n",
       "      <th>2</th>\n",
       "      <td>NEW YORK NY</td>\n",
       "      <td>8,405,837</td>\n",
       "      <td>302,149</td>\n",
       "      <td>10000141</td>\n",
       "      <td>2016-01-06</td>\n",
       "      <td>Pink Cab</td>\n",
       "      <td>16.32</td>\n",
       "      <td>236.41</td>\n",
       "      <td>186.05</td>\n",
       "    </tr>\n",
       "    <tr>\n",
       "      <th>3</th>\n",
       "      <td>NEW YORK NY</td>\n",
       "      <td>8,405,837</td>\n",
       "      <td>302,149</td>\n",
       "      <td>10000142</td>\n",
       "      <td>2016-01-04</td>\n",
       "      <td>Pink Cab</td>\n",
       "      <td>12.43</td>\n",
       "      <td>194.61</td>\n",
       "      <td>144.19</td>\n",
       "    </tr>\n",
       "    <tr>\n",
       "      <th>4</th>\n",
       "      <td>NEW YORK NY</td>\n",
       "      <td>8,405,837</td>\n",
       "      <td>302,149</td>\n",
       "      <td>10000143</td>\n",
       "      <td>2016-01-09</td>\n",
       "      <td>Pink Cab</td>\n",
       "      <td>29.70</td>\n",
       "      <td>434.57</td>\n",
       "      <td>350.46</td>\n",
       "    </tr>\n",
       "  </tbody>\n",
       "</table>\n",
       "</div>"
      ],
      "text/plain": [
       "          City Population    Users  Transaction ID Date of Travel   Company  \\\n",
       "0  NEW YORK NY  8,405,837  302,149        10000139     2016-01-08  Pink Cab   \n",
       "1  NEW YORK NY  8,405,837  302,149        10000140     2016-01-09  Pink Cab   \n",
       "2  NEW YORK NY  8,405,837  302,149        10000141     2016-01-06  Pink Cab   \n",
       "3  NEW YORK NY  8,405,837  302,149        10000142     2016-01-04  Pink Cab   \n",
       "4  NEW YORK NY  8,405,837  302,149        10000143     2016-01-09  Pink Cab   \n",
       "\n",
       "   KM Travelled  Price Charged  Cost of Trip  \n",
       "0         17.85         242.90        198.14  \n",
       "1         25.30         407.21        255.53  \n",
       "2         16.32         236.41        186.05  \n",
       "3         12.43         194.61        144.19  \n",
       "4         29.70         434.57        350.46  "
      ]
     },
     "execution_count": 803,
     "metadata": {},
     "output_type": "execute_result"
    }
   ],
   "source": [
    "City_Company.head()"
   ]
  },
  {
   "cell_type": "markdown",
   "id": "aa4ba139",
   "metadata": {},
   "source": [
    "# Reconstruct  and Clean the DataFrames"
   ]
  },
  {
   "cell_type": "code",
   "execution_count": 646,
   "id": "d7c01ce4",
   "metadata": {},
   "outputs": [],
   "source": [
    "combined_df= combined_df[[\"Company\", \"Customer ID\", \"Transaction ID\", \"Gender\", \"Age\", \n",
    "                              \"Income (USD/Month)\",\"City\", \"Date of Travel\", 'KM Travelled', 'Cost of Trip',\n",
    "                             'Price Charged', 'Payment_Mode']]"
   ]
  },
  {
   "cell_type": "code",
   "execution_count": 647,
   "id": "5c365be3",
   "metadata": {
    "scrolled": true
   },
   "outputs": [
    {
     "data": {
      "text/html": [
       "<div>\n",
       "<style scoped>\n",
       "    .dataframe tbody tr th:only-of-type {\n",
       "        vertical-align: middle;\n",
       "    }\n",
       "\n",
       "    .dataframe tbody tr th {\n",
       "        vertical-align: top;\n",
       "    }\n",
       "\n",
       "    .dataframe thead th {\n",
       "        text-align: right;\n",
       "    }\n",
       "</style>\n",
       "<table border=\"1\" class=\"dataframe\">\n",
       "  <thead>\n",
       "    <tr style=\"text-align: right;\">\n",
       "      <th></th>\n",
       "      <th>Company</th>\n",
       "      <th>Customer ID</th>\n",
       "      <th>Transaction ID</th>\n",
       "      <th>Gender</th>\n",
       "      <th>Age</th>\n",
       "      <th>Income (USD/Month)</th>\n",
       "      <th>City</th>\n",
       "      <th>Date of Travel</th>\n",
       "      <th>KM Travelled</th>\n",
       "      <th>Cost of Trip</th>\n",
       "      <th>Price Charged</th>\n",
       "      <th>Payment_Mode</th>\n",
       "    </tr>\n",
       "  </thead>\n",
       "  <tbody>\n",
       "    <tr>\n",
       "      <th>0</th>\n",
       "      <td>Pink Cab</td>\n",
       "      <td>29290</td>\n",
       "      <td>10000011</td>\n",
       "      <td>Male</td>\n",
       "      <td>28</td>\n",
       "      <td>10813</td>\n",
       "      <td>ATLANTA GA</td>\n",
       "      <td>2016-01-08</td>\n",
       "      <td>30.45</td>\n",
       "      <td>313.64</td>\n",
       "      <td>370.95</td>\n",
       "      <td>Card</td>\n",
       "    </tr>\n",
       "    <tr>\n",
       "      <th>1</th>\n",
       "      <td>Yellow Cab</td>\n",
       "      <td>29290</td>\n",
       "      <td>10351127</td>\n",
       "      <td>Male</td>\n",
       "      <td>28</td>\n",
       "      <td>10813</td>\n",
       "      <td>ATLANTA GA</td>\n",
       "      <td>2018-07-21</td>\n",
       "      <td>26.19</td>\n",
       "      <td>317.42</td>\n",
       "      <td>598.70</td>\n",
       "      <td>Cash</td>\n",
       "    </tr>\n",
       "    <tr>\n",
       "      <th>2</th>\n",
       "      <td>Yellow Cab</td>\n",
       "      <td>29290</td>\n",
       "      <td>10412921</td>\n",
       "      <td>Male</td>\n",
       "      <td>28</td>\n",
       "      <td>10813</td>\n",
       "      <td>ATLANTA GA</td>\n",
       "      <td>2018-11-23</td>\n",
       "      <td>42.55</td>\n",
       "      <td>597.40</td>\n",
       "      <td>792.05</td>\n",
       "      <td>Card</td>\n",
       "    </tr>\n",
       "    <tr>\n",
       "      <th>3</th>\n",
       "      <td>Pink Cab</td>\n",
       "      <td>27703</td>\n",
       "      <td>10000012</td>\n",
       "      <td>Male</td>\n",
       "      <td>27</td>\n",
       "      <td>9237</td>\n",
       "      <td>ATLANTA GA</td>\n",
       "      <td>2016-01-06</td>\n",
       "      <td>28.62</td>\n",
       "      <td>334.85</td>\n",
       "      <td>358.52</td>\n",
       "      <td>Card</td>\n",
       "    </tr>\n",
       "    <tr>\n",
       "      <th>4</th>\n",
       "      <td>Yellow Cab</td>\n",
       "      <td>27703</td>\n",
       "      <td>10320494</td>\n",
       "      <td>Male</td>\n",
       "      <td>27</td>\n",
       "      <td>9237</td>\n",
       "      <td>ATLANTA GA</td>\n",
       "      <td>2018-04-21</td>\n",
       "      <td>36.38</td>\n",
       "      <td>467.12</td>\n",
       "      <td>721.10</td>\n",
       "      <td>Card</td>\n",
       "    </tr>\n",
       "  </tbody>\n",
       "</table>\n",
       "</div>"
      ],
      "text/plain": [
       "      Company  Customer ID  Transaction ID Gender  Age  Income (USD/Month)  \\\n",
       "0    Pink Cab        29290        10000011   Male   28               10813   \n",
       "1  Yellow Cab        29290        10351127   Male   28               10813   \n",
       "2  Yellow Cab        29290        10412921   Male   28               10813   \n",
       "3    Pink Cab        27703        10000012   Male   27                9237   \n",
       "4  Yellow Cab        27703        10320494   Male   27                9237   \n",
       "\n",
       "         City Date of Travel  KM Travelled  Cost of Trip  Price Charged  \\\n",
       "0  ATLANTA GA     2016-01-08         30.45        313.64         370.95   \n",
       "1  ATLANTA GA     2018-07-21         26.19        317.42         598.70   \n",
       "2  ATLANTA GA     2018-11-23         42.55        597.40         792.05   \n",
       "3  ATLANTA GA     2016-01-06         28.62        334.85         358.52   \n",
       "4  ATLANTA GA     2018-04-21         36.38        467.12         721.10   \n",
       "\n",
       "  Payment_Mode  \n",
       "0         Card  \n",
       "1         Cash  \n",
       "2         Card  \n",
       "3         Card  \n",
       "4         Card  "
      ]
     },
     "execution_count": 647,
     "metadata": {},
     "output_type": "execute_result"
    }
   ],
   "source": [
    "combined_df.head()"
   ]
  },
  {
   "cell_type": "markdown",
   "id": "6484430d",
   "metadata": {},
   "source": [
    "### Check and clean the dates range from 31/01/2016 to 31/12/2018"
   ]
  },
  {
   "cell_type": "markdown",
   "id": "70bea424",
   "metadata": {},
   "source": [
    "#### Change Date of Travel column type to datetime."
   ]
  },
  {
   "cell_type": "code",
   "execution_count": 642,
   "id": "e9adcfb5",
   "metadata": {},
   "outputs": [],
   "source": [
    "Cab_Data['Date of Travel'] = pd.to_datetime(Cab_Data['Date of Travel'])"
   ]
  },
  {
   "cell_type": "code",
   "execution_count": 648,
   "id": "fd4438a2",
   "metadata": {},
   "outputs": [],
   "source": [
    "combined_df = combined_df[combined_df[\"Date of Travel\"]>= \"1/31/2016\"]"
   ]
  },
  {
   "cell_type": "code",
   "execution_count": 650,
   "id": "3e20d5d0",
   "metadata": {},
   "outputs": [],
   "source": [
    "combined_df= combined_df.drop(['Income (USD/Month)'], axis = 1)"
   ]
  },
  {
   "cell_type": "code",
   "execution_count": 651,
   "id": "e1ad8273",
   "metadata": {},
   "outputs": [],
   "source": [
    "combined_df= combined_df.drop(['Transaction ID'], axis = 1)"
   ]
  },
  {
   "cell_type": "code",
   "execution_count": 652,
   "id": "7d11cc56",
   "metadata": {},
   "outputs": [
    {
     "data": {
      "text/html": [
       "<div>\n",
       "<style scoped>\n",
       "    .dataframe tbody tr th:only-of-type {\n",
       "        vertical-align: middle;\n",
       "    }\n",
       "\n",
       "    .dataframe tbody tr th {\n",
       "        vertical-align: top;\n",
       "    }\n",
       "\n",
       "    .dataframe thead th {\n",
       "        text-align: right;\n",
       "    }\n",
       "</style>\n",
       "<table border=\"1\" class=\"dataframe\">\n",
       "  <thead>\n",
       "    <tr style=\"text-align: right;\">\n",
       "      <th></th>\n",
       "      <th>Company</th>\n",
       "      <th>Customer ID</th>\n",
       "      <th>Gender</th>\n",
       "      <th>Age</th>\n",
       "      <th>City</th>\n",
       "      <th>Date of Travel</th>\n",
       "      <th>KM Travelled</th>\n",
       "      <th>Cost of Trip</th>\n",
       "      <th>Price Charged</th>\n",
       "      <th>Payment_Mode</th>\n",
       "    </tr>\n",
       "  </thead>\n",
       "  <tbody>\n",
       "    <tr>\n",
       "      <th>1</th>\n",
       "      <td>Yellow Cab</td>\n",
       "      <td>29290</td>\n",
       "      <td>Male</td>\n",
       "      <td>28</td>\n",
       "      <td>ATLANTA GA</td>\n",
       "      <td>2018-07-21</td>\n",
       "      <td>26.19</td>\n",
       "      <td>317.42</td>\n",
       "      <td>598.70</td>\n",
       "      <td>Cash</td>\n",
       "    </tr>\n",
       "    <tr>\n",
       "      <th>2</th>\n",
       "      <td>Yellow Cab</td>\n",
       "      <td>29290</td>\n",
       "      <td>Male</td>\n",
       "      <td>28</td>\n",
       "      <td>ATLANTA GA</td>\n",
       "      <td>2018-11-23</td>\n",
       "      <td>42.55</td>\n",
       "      <td>597.40</td>\n",
       "      <td>792.05</td>\n",
       "      <td>Card</td>\n",
       "    </tr>\n",
       "    <tr>\n",
       "      <th>4</th>\n",
       "      <td>Yellow Cab</td>\n",
       "      <td>27703</td>\n",
       "      <td>Male</td>\n",
       "      <td>27</td>\n",
       "      <td>ATLANTA GA</td>\n",
       "      <td>2018-04-21</td>\n",
       "      <td>36.38</td>\n",
       "      <td>467.12</td>\n",
       "      <td>721.10</td>\n",
       "      <td>Card</td>\n",
       "    </tr>\n",
       "    <tr>\n",
       "      <th>5</th>\n",
       "      <td>Yellow Cab</td>\n",
       "      <td>27703</td>\n",
       "      <td>Male</td>\n",
       "      <td>27</td>\n",
       "      <td>ATLANTA GA</td>\n",
       "      <td>2018-05-04</td>\n",
       "      <td>6.18</td>\n",
       "      <td>87.51</td>\n",
       "      <td>138.40</td>\n",
       "      <td>Cash</td>\n",
       "    </tr>\n",
       "    <tr>\n",
       "      <th>6</th>\n",
       "      <td>Pink Cab</td>\n",
       "      <td>27703</td>\n",
       "      <td>Male</td>\n",
       "      <td>27</td>\n",
       "      <td>ATLANTA GA</td>\n",
       "      <td>2018-10-27</td>\n",
       "      <td>13.39</td>\n",
       "      <td>141.93</td>\n",
       "      <td>167.03</td>\n",
       "      <td>Card</td>\n",
       "    </tr>\n",
       "  </tbody>\n",
       "</table>\n",
       "</div>"
      ],
      "text/plain": [
       "      Company  Customer ID Gender  Age        City Date of Travel  \\\n",
       "1  Yellow Cab        29290   Male   28  ATLANTA GA     2018-07-21   \n",
       "2  Yellow Cab        29290   Male   28  ATLANTA GA     2018-11-23   \n",
       "4  Yellow Cab        27703   Male   27  ATLANTA GA     2018-04-21   \n",
       "5  Yellow Cab        27703   Male   27  ATLANTA GA     2018-05-04   \n",
       "6    Pink Cab        27703   Male   27  ATLANTA GA     2018-10-27   \n",
       "\n",
       "   KM Travelled  Cost of Trip  Price Charged Payment_Mode  \n",
       "1         26.19        317.42         598.70         Cash  \n",
       "2         42.55        597.40         792.05         Card  \n",
       "4         36.38        467.12         721.10         Card  \n",
       "5          6.18         87.51         138.40         Cash  \n",
       "6         13.39        141.93         167.03         Card  "
      ]
     },
     "execution_count": 652,
     "metadata": {},
     "output_type": "execute_result"
    }
   ],
   "source": [
    "combined_df.head()"
   ]
  },
  {
   "cell_type": "code",
   "execution_count": 804,
   "id": "4644d1a9",
   "metadata": {},
   "outputs": [],
   "source": [
    "City_Company= City_Company.drop(['Transaction ID'], axis = 1)"
   ]
  },
  {
   "cell_type": "code",
   "execution_count": null,
   "id": "6ba17ba6",
   "metadata": {},
   "outputs": [],
   "source": [
    "Transaction ID \tDate of Travel \tCompany \tKM Travelled \tPrice Charged \tCost of Trip"
   ]
  },
  {
   "cell_type": "code",
   "execution_count": 805,
   "id": "1ed9a9ce",
   "metadata": {},
   "outputs": [],
   "source": [
    "City_Company= City_Company.drop(['Date of Travel'], axis = 1)"
   ]
  },
  {
   "cell_type": "code",
   "execution_count": 806,
   "id": "c6a3881d",
   "metadata": {},
   "outputs": [],
   "source": [
    "City_Company= City_Company.drop(['KM Travelled'], axis = 1)"
   ]
  },
  {
   "cell_type": "code",
   "execution_count": 807,
   "id": "e1ab0018",
   "metadata": {},
   "outputs": [],
   "source": [
    "City_Company= City_Company.drop(['Price Charged'], axis = 1)"
   ]
  },
  {
   "cell_type": "code",
   "execution_count": 808,
   "id": "383dcd54",
   "metadata": {},
   "outputs": [],
   "source": [
    "City_Company= City_Company.drop(['Cost of Trip'], axis = 1)"
   ]
  },
  {
   "cell_type": "code",
   "execution_count": 818,
   "id": "1af8123a",
   "metadata": {},
   "outputs": [
    {
     "data": {
      "text/html": [
       "<div>\n",
       "<style scoped>\n",
       "    .dataframe tbody tr th:only-of-type {\n",
       "        vertical-align: middle;\n",
       "    }\n",
       "\n",
       "    .dataframe tbody tr th {\n",
       "        vertical-align: top;\n",
       "    }\n",
       "\n",
       "    .dataframe thead th {\n",
       "        text-align: right;\n",
       "    }\n",
       "</style>\n",
       "<table border=\"1\" class=\"dataframe\">\n",
       "  <thead>\n",
       "    <tr style=\"text-align: right;\">\n",
       "      <th></th>\n",
       "      <th>City</th>\n",
       "      <th>Population</th>\n",
       "      <th>Users</th>\n",
       "      <th>Company</th>\n",
       "    </tr>\n",
       "  </thead>\n",
       "  <tbody>\n",
       "    <tr>\n",
       "      <th>0</th>\n",
       "      <td>NEW YORK NY</td>\n",
       "      <td>8,405,837</td>\n",
       "      <td>302,149</td>\n",
       "      <td>Pink Cab</td>\n",
       "    </tr>\n",
       "    <tr>\n",
       "      <th>1</th>\n",
       "      <td>NEW YORK NY</td>\n",
       "      <td>8,405,837</td>\n",
       "      <td>302,149</td>\n",
       "      <td>Pink Cab</td>\n",
       "    </tr>\n",
       "    <tr>\n",
       "      <th>2</th>\n",
       "      <td>NEW YORK NY</td>\n",
       "      <td>8,405,837</td>\n",
       "      <td>302,149</td>\n",
       "      <td>Pink Cab</td>\n",
       "    </tr>\n",
       "    <tr>\n",
       "      <th>3</th>\n",
       "      <td>NEW YORK NY</td>\n",
       "      <td>8,405,837</td>\n",
       "      <td>302,149</td>\n",
       "      <td>Pink Cab</td>\n",
       "    </tr>\n",
       "    <tr>\n",
       "      <th>4</th>\n",
       "      <td>NEW YORK NY</td>\n",
       "      <td>8,405,837</td>\n",
       "      <td>302,149</td>\n",
       "      <td>Pink Cab</td>\n",
       "    </tr>\n",
       "  </tbody>\n",
       "</table>\n",
       "</div>"
      ],
      "text/plain": [
       "          City Population    Users   Company\n",
       "0  NEW YORK NY  8,405,837  302,149  Pink Cab\n",
       "1  NEW YORK NY  8,405,837  302,149  Pink Cab\n",
       "2  NEW YORK NY  8,405,837  302,149  Pink Cab\n",
       "3  NEW YORK NY  8,405,837  302,149  Pink Cab\n",
       "4  NEW YORK NY  8,405,837  302,149  Pink Cab"
      ]
     },
     "execution_count": 818,
     "metadata": {},
     "output_type": "execute_result"
    }
   ],
   "source": [
    "City_Company.head()"
   ]
  },
  {
   "cell_type": "markdown",
   "id": "999fc0a0",
   "metadata": {},
   "source": [
    "### Profit calculation"
   ]
  },
  {
   "cell_type": "code",
   "execution_count": 653,
   "id": "3dcfe78d",
   "metadata": {
    "scrolled": true
   },
   "outputs": [
    {
     "data": {
      "text/html": [
       "<div>\n",
       "<style scoped>\n",
       "    .dataframe tbody tr th:only-of-type {\n",
       "        vertical-align: middle;\n",
       "    }\n",
       "\n",
       "    .dataframe tbody tr th {\n",
       "        vertical-align: top;\n",
       "    }\n",
       "\n",
       "    .dataframe thead th {\n",
       "        text-align: right;\n",
       "    }\n",
       "</style>\n",
       "<table border=\"1\" class=\"dataframe\">\n",
       "  <thead>\n",
       "    <tr style=\"text-align: right;\">\n",
       "      <th></th>\n",
       "      <th>Company</th>\n",
       "      <th>Customer ID</th>\n",
       "      <th>Gender</th>\n",
       "      <th>Age</th>\n",
       "      <th>City</th>\n",
       "      <th>Date of Travel</th>\n",
       "      <th>KM Travelled</th>\n",
       "      <th>Cost of Trip</th>\n",
       "      <th>Price Charged</th>\n",
       "      <th>Payment_Mode</th>\n",
       "      <th>Profit</th>\n",
       "    </tr>\n",
       "  </thead>\n",
       "  <tbody>\n",
       "    <tr>\n",
       "      <th>1</th>\n",
       "      <td>Yellow Cab</td>\n",
       "      <td>29290</td>\n",
       "      <td>Male</td>\n",
       "      <td>28</td>\n",
       "      <td>ATLANTA GA</td>\n",
       "      <td>2018-07-21</td>\n",
       "      <td>26.19</td>\n",
       "      <td>317.42</td>\n",
       "      <td>598.70</td>\n",
       "      <td>Cash</td>\n",
       "      <td>281.28</td>\n",
       "    </tr>\n",
       "    <tr>\n",
       "      <th>2</th>\n",
       "      <td>Yellow Cab</td>\n",
       "      <td>29290</td>\n",
       "      <td>Male</td>\n",
       "      <td>28</td>\n",
       "      <td>ATLANTA GA</td>\n",
       "      <td>2018-11-23</td>\n",
       "      <td>42.55</td>\n",
       "      <td>597.40</td>\n",
       "      <td>792.05</td>\n",
       "      <td>Card</td>\n",
       "      <td>194.65</td>\n",
       "    </tr>\n",
       "    <tr>\n",
       "      <th>4</th>\n",
       "      <td>Yellow Cab</td>\n",
       "      <td>27703</td>\n",
       "      <td>Male</td>\n",
       "      <td>27</td>\n",
       "      <td>ATLANTA GA</td>\n",
       "      <td>2018-04-21</td>\n",
       "      <td>36.38</td>\n",
       "      <td>467.12</td>\n",
       "      <td>721.10</td>\n",
       "      <td>Card</td>\n",
       "      <td>253.98</td>\n",
       "    </tr>\n",
       "    <tr>\n",
       "      <th>5</th>\n",
       "      <td>Yellow Cab</td>\n",
       "      <td>27703</td>\n",
       "      <td>Male</td>\n",
       "      <td>27</td>\n",
       "      <td>ATLANTA GA</td>\n",
       "      <td>2018-05-04</td>\n",
       "      <td>6.18</td>\n",
       "      <td>87.51</td>\n",
       "      <td>138.40</td>\n",
       "      <td>Cash</td>\n",
       "      <td>50.89</td>\n",
       "    </tr>\n",
       "    <tr>\n",
       "      <th>6</th>\n",
       "      <td>Pink Cab</td>\n",
       "      <td>27703</td>\n",
       "      <td>Male</td>\n",
       "      <td>27</td>\n",
       "      <td>ATLANTA GA</td>\n",
       "      <td>2018-10-27</td>\n",
       "      <td>13.39</td>\n",
       "      <td>141.93</td>\n",
       "      <td>167.03</td>\n",
       "      <td>Card</td>\n",
       "      <td>25.10</td>\n",
       "    </tr>\n",
       "    <tr>\n",
       "      <th>...</th>\n",
       "      <td>...</td>\n",
       "      <td>...</td>\n",
       "      <td>...</td>\n",
       "      <td>...</td>\n",
       "      <td>...</td>\n",
       "      <td>...</td>\n",
       "      <td>...</td>\n",
       "      <td>...</td>\n",
       "      <td>...</td>\n",
       "      <td>...</td>\n",
       "      <td>...</td>\n",
       "    </tr>\n",
       "    <tr>\n",
       "      <th>359387</th>\n",
       "      <td>Yellow Cab</td>\n",
       "      <td>38520</td>\n",
       "      <td>Female</td>\n",
       "      <td>42</td>\n",
       "      <td>SEATTLE WA</td>\n",
       "      <td>2018-01-07</td>\n",
       "      <td>16.66</td>\n",
       "      <td>213.91</td>\n",
       "      <td>261.18</td>\n",
       "      <td>Card</td>\n",
       "      <td>47.27</td>\n",
       "    </tr>\n",
       "    <tr>\n",
       "      <th>359388</th>\n",
       "      <td>Yellow Cab</td>\n",
       "      <td>12490</td>\n",
       "      <td>Male</td>\n",
       "      <td>33</td>\n",
       "      <td>SILICON VALLEY</td>\n",
       "      <td>2018-01-03</td>\n",
       "      <td>13.72</td>\n",
       "      <td>172.87</td>\n",
       "      <td>277.97</td>\n",
       "      <td>Cash</td>\n",
       "      <td>105.10</td>\n",
       "    </tr>\n",
       "    <tr>\n",
       "      <th>359389</th>\n",
       "      <td>Yellow Cab</td>\n",
       "      <td>41414</td>\n",
       "      <td>Male</td>\n",
       "      <td>38</td>\n",
       "      <td>TUCSON AZ</td>\n",
       "      <td>2018-01-04</td>\n",
       "      <td>19.00</td>\n",
       "      <td>232.56</td>\n",
       "      <td>303.77</td>\n",
       "      <td>Card</td>\n",
       "      <td>71.21</td>\n",
       "    </tr>\n",
       "    <tr>\n",
       "      <th>359390</th>\n",
       "      <td>Yellow Cab</td>\n",
       "      <td>41677</td>\n",
       "      <td>Male</td>\n",
       "      <td>23</td>\n",
       "      <td>TUCSON AZ</td>\n",
       "      <td>2018-01-06</td>\n",
       "      <td>5.60</td>\n",
       "      <td>70.56</td>\n",
       "      <td>92.42</td>\n",
       "      <td>Cash</td>\n",
       "      <td>21.86</td>\n",
       "    </tr>\n",
       "    <tr>\n",
       "      <th>359391</th>\n",
       "      <td>Yellow Cab</td>\n",
       "      <td>39761</td>\n",
       "      <td>Female</td>\n",
       "      <td>32</td>\n",
       "      <td>TUCSON AZ</td>\n",
       "      <td>2018-01-04</td>\n",
       "      <td>13.30</td>\n",
       "      <td>180.35</td>\n",
       "      <td>244.65</td>\n",
       "      <td>Card</td>\n",
       "      <td>64.30</td>\n",
       "    </tr>\n",
       "  </tbody>\n",
       "</table>\n",
       "<p>355032 rows × 11 columns</p>\n",
       "</div>"
      ],
      "text/plain": [
       "           Company  Customer ID  Gender  Age            City Date of Travel  \\\n",
       "1       Yellow Cab        29290    Male   28      ATLANTA GA     2018-07-21   \n",
       "2       Yellow Cab        29290    Male   28      ATLANTA GA     2018-11-23   \n",
       "4       Yellow Cab        27703    Male   27      ATLANTA GA     2018-04-21   \n",
       "5       Yellow Cab        27703    Male   27      ATLANTA GA     2018-05-04   \n",
       "6         Pink Cab        27703    Male   27      ATLANTA GA     2018-10-27   \n",
       "...            ...          ...     ...  ...             ...            ...   \n",
       "359387  Yellow Cab        38520  Female   42      SEATTLE WA     2018-01-07   \n",
       "359388  Yellow Cab        12490    Male   33  SILICON VALLEY     2018-01-03   \n",
       "359389  Yellow Cab        41414    Male   38       TUCSON AZ     2018-01-04   \n",
       "359390  Yellow Cab        41677    Male   23       TUCSON AZ     2018-01-06   \n",
       "359391  Yellow Cab        39761  Female   32       TUCSON AZ     2018-01-04   \n",
       "\n",
       "        KM Travelled  Cost of Trip  Price Charged Payment_Mode  Profit  \n",
       "1              26.19        317.42         598.70         Cash  281.28  \n",
       "2              42.55        597.40         792.05         Card  194.65  \n",
       "4              36.38        467.12         721.10         Card  253.98  \n",
       "5               6.18         87.51         138.40         Cash   50.89  \n",
       "6              13.39        141.93         167.03         Card   25.10  \n",
       "...              ...           ...            ...          ...     ...  \n",
       "359387         16.66        213.91         261.18         Card   47.27  \n",
       "359388         13.72        172.87         277.97         Cash  105.10  \n",
       "359389         19.00        232.56         303.77         Card   71.21  \n",
       "359390          5.60         70.56          92.42         Cash   21.86  \n",
       "359391         13.30        180.35         244.65         Card   64.30  \n",
       "\n",
       "[355032 rows x 11 columns]"
      ]
     },
     "execution_count": 653,
     "metadata": {},
     "output_type": "execute_result"
    }
   ],
   "source": [
    "combined_df[\"Profit\"]=combined_df[\"Price Charged\"]-combined_df[\"Cost of Trip\"]\n",
    "combined_df"
   ]
  },
  {
   "cell_type": "markdown",
   "id": "9f332502",
   "metadata": {},
   "source": [
    "## Check for any null values"
   ]
  },
  {
   "cell_type": "code",
   "execution_count": 810,
   "id": "7d3230ad",
   "metadata": {},
   "outputs": [
    {
     "data": {
      "text/plain": [
       "(359392, 7)"
      ]
     },
     "execution_count": 810,
     "metadata": {},
     "output_type": "execute_result"
    }
   ],
   "source": [
    "Cab_Data.shape"
   ]
  },
  {
   "cell_type": "code",
   "execution_count": 811,
   "id": "fde2c76f",
   "metadata": {},
   "outputs": [
    {
     "data": {
      "text/plain": [
       "(20, 3)"
      ]
     },
     "execution_count": 811,
     "metadata": {},
     "output_type": "execute_result"
    }
   ],
   "source": [
    "City_Data.shape"
   ]
  },
  {
   "cell_type": "code",
   "execution_count": 812,
   "id": "5b0e1275",
   "metadata": {},
   "outputs": [
    {
     "data": {
      "text/plain": [
       "(49171, 4)"
      ]
     },
     "execution_count": 812,
     "metadata": {},
     "output_type": "execute_result"
    }
   ],
   "source": [
    "Customer_Data.shape"
   ]
  },
  {
   "cell_type": "code",
   "execution_count": 813,
   "id": "07ca42bc",
   "metadata": {},
   "outputs": [
    {
     "data": {
      "text/plain": [
       "(440098, 3)"
      ]
     },
     "execution_count": 813,
     "metadata": {},
     "output_type": "execute_result"
    }
   ],
   "source": [
    "Transaction_data.shape"
   ]
  },
  {
   "cell_type": "code",
   "execution_count": 654,
   "id": "78c940a9",
   "metadata": {},
   "outputs": [
    {
     "data": {
      "text/plain": [
       "(355032, 11)"
      ]
     },
     "execution_count": 654,
     "metadata": {},
     "output_type": "execute_result"
    }
   ],
   "source": [
    "combined_df.shape"
   ]
  },
  {
   "cell_type": "code",
   "execution_count": 656,
   "id": "918e8c2d",
   "metadata": {},
   "outputs": [
    {
     "data": {
      "text/plain": [
       "False"
      ]
     },
     "execution_count": 656,
     "metadata": {},
     "output_type": "execute_result"
    }
   ],
   "source": [
    "combined_df[combined_df.columns].isnull().values.any()"
   ]
  },
  {
   "cell_type": "code",
   "execution_count": 657,
   "id": "81cffdd3",
   "metadata": {},
   "outputs": [
    {
     "data": {
      "text/plain": [
       "Company           0\n",
       "Customer ID       0\n",
       "Gender            0\n",
       "Age               0\n",
       "City              0\n",
       "Date of Travel    0\n",
       "KM Travelled      0\n",
       "Cost of Trip      0\n",
       "Price Charged     0\n",
       "Payment_Mode      0\n",
       "Profit            0\n",
       "dtype: int64"
      ]
     },
     "execution_count": 657,
     "metadata": {},
     "output_type": "execute_result"
    }
   ],
   "source": [
    "combined_df.isnull().sum()"
   ]
  },
  {
   "cell_type": "code",
   "execution_count": 658,
   "id": "9f75b256",
   "metadata": {},
   "outputs": [
    {
     "data": {
      "text/plain": [
       "Company                2\n",
       "Customer ID        46020\n",
       "Gender                 2\n",
       "Age                   48\n",
       "City                  19\n",
       "Date of Travel      1066\n",
       "KM Travelled         874\n",
       "Cost of Trip       14759\n",
       "Price Charged      98741\n",
       "Payment_Mode           2\n",
       "Profit            141407\n",
       "dtype: int64"
      ]
     },
     "execution_count": 658,
     "metadata": {},
     "output_type": "execute_result"
    }
   ],
   "source": [
    "combined_df.nunique()"
   ]
  },
  {
   "cell_type": "code",
   "execution_count": 659,
   "id": "87e436dc",
   "metadata": {},
   "outputs": [
    {
     "data": {
      "text/plain": [
       "0"
      ]
     },
     "execution_count": 659,
     "metadata": {},
     "output_type": "execute_result"
    }
   ],
   "source": [
    "combined_df.duplicated().sum()"
   ]
  },
  {
   "cell_type": "code",
   "execution_count": 814,
   "id": "45d4f8db",
   "metadata": {},
   "outputs": [
    {
     "data": {
      "text/plain": [
       "City          0\n",
       "Population    0\n",
       "Users         0\n",
       "Company       0\n",
       "dtype: int64"
      ]
     },
     "execution_count": 814,
     "metadata": {},
     "output_type": "execute_result"
    }
   ],
   "source": [
    "City_Company.isnull().sum()"
   ]
  },
  {
   "cell_type": "code",
   "execution_count": 815,
   "id": "ea106b5e",
   "metadata": {},
   "outputs": [
    {
     "data": {
      "text/plain": [
       "City          19\n",
       "Population    19\n",
       "Users         19\n",
       "Company        2\n",
       "dtype: int64"
      ]
     },
     "execution_count": 815,
     "metadata": {},
     "output_type": "execute_result"
    }
   ],
   "source": [
    "City_Company.nunique()"
   ]
  },
  {
   "cell_type": "code",
   "execution_count": 816,
   "id": "62a342f2",
   "metadata": {},
   "outputs": [
    {
     "data": {
      "text/plain": [
       "False"
      ]
     },
     "execution_count": 816,
     "metadata": {},
     "output_type": "execute_result"
    }
   ],
   "source": [
    "City_Company[City_Company.columns].isnull().values.any()"
   ]
  },
  {
   "cell_type": "markdown",
   "id": "429847de",
   "metadata": {},
   "source": [
    "## Exploring Data"
   ]
  },
  {
   "cell_type": "code",
   "execution_count": 718,
   "id": "35780687",
   "metadata": {},
   "outputs": [
    {
     "name": "stdout",
     "output_type": "stream",
     "text": [
      "<class 'pandas.core.frame.DataFrame'>\n",
      "Int64Index: 355032 entries, 1 to 359391\n",
      "Data columns (total 11 columns):\n",
      " #   Column          Non-Null Count   Dtype         \n",
      "---  ------          --------------   -----         \n",
      " 0   Company         355032 non-null  object        \n",
      " 1   Customer ID     355032 non-null  int64         \n",
      " 2   Gender          355032 non-null  object        \n",
      " 3   Age             355032 non-null  int64         \n",
      " 4   City            355032 non-null  object        \n",
      " 5   Date of Travel  355032 non-null  datetime64[ns]\n",
      " 6   KM Travelled    355032 non-null  float64       \n",
      " 7   Cost of Trip    355032 non-null  float64       \n",
      " 8   Price Charged   355032 non-null  float64       \n",
      " 9   Payment_Mode    355032 non-null  object        \n",
      " 10  Profit          355032 non-null  float64       \n",
      "dtypes: datetime64[ns](1), float64(4), int64(2), object(4)\n",
      "memory usage: 40.6+ MB\n"
     ]
    }
   ],
   "source": [
    "combined_df.info()"
   ]
  },
  {
   "cell_type": "code",
   "execution_count": 750,
   "id": "d7161851",
   "metadata": {},
   "outputs": [
    {
     "data": {
      "text/html": [
       "<div>\n",
       "<style scoped>\n",
       "    .dataframe tbody tr th:only-of-type {\n",
       "        vertical-align: middle;\n",
       "    }\n",
       "\n",
       "    .dataframe tbody tr th {\n",
       "        vertical-align: top;\n",
       "    }\n",
       "\n",
       "    .dataframe thead th {\n",
       "        text-align: right;\n",
       "    }\n",
       "</style>\n",
       "<table border=\"1\" class=\"dataframe\">\n",
       "  <thead>\n",
       "    <tr style=\"text-align: right;\">\n",
       "      <th>Company</th>\n",
       "      <th>Pink Cab</th>\n",
       "      <th>Yellow Cab</th>\n",
       "    </tr>\n",
       "    <tr>\n",
       "      <th>Gender</th>\n",
       "      <th></th>\n",
       "      <th></th>\n",
       "    </tr>\n",
       "  </thead>\n",
       "  <tbody>\n",
       "    <tr>\n",
       "      <th>Female</th>\n",
       "      <td>37440</td>\n",
       "      <td>115634</td>\n",
       "    </tr>\n",
       "    <tr>\n",
       "      <th>Male</th>\n",
       "      <td>46385</td>\n",
       "      <td>155573</td>\n",
       "    </tr>\n",
       "  </tbody>\n",
       "</table>\n",
       "</div>"
      ],
      "text/plain": [
       "Company  Pink Cab  Yellow Cab\n",
       "Gender                       \n",
       "Female      37440      115634\n",
       "Male        46385      155573"
      ]
     },
     "execution_count": 750,
     "metadata": {},
     "output_type": "execute_result"
    }
   ],
   "source": [
    "pd.crosstab(combined_df.Gender, combined_df.Company)"
   ]
  },
  {
   "cell_type": "code",
   "execution_count": 793,
   "id": "c384eb26",
   "metadata": {},
   "outputs": [
    {
     "data": {
      "text/html": [
       "<div>\n",
       "<style scoped>\n",
       "    .dataframe tbody tr th:only-of-type {\n",
       "        vertical-align: middle;\n",
       "    }\n",
       "\n",
       "    .dataframe tbody tr th {\n",
       "        vertical-align: top;\n",
       "    }\n",
       "\n",
       "    .dataframe thead th {\n",
       "        text-align: right;\n",
       "    }\n",
       "</style>\n",
       "<table border=\"1\" class=\"dataframe\">\n",
       "  <thead>\n",
       "    <tr style=\"text-align: right;\">\n",
       "      <th>Company</th>\n",
       "      <th>Pink Cab</th>\n",
       "      <th>Yellow Cab</th>\n",
       "    </tr>\n",
       "    <tr>\n",
       "      <th>City</th>\n",
       "      <th></th>\n",
       "      <th></th>\n",
       "    </tr>\n",
       "  </thead>\n",
       "  <tbody>\n",
       "    <tr>\n",
       "      <th>ATLANTA GA</th>\n",
       "      <td>1762</td>\n",
       "      <td>5795</td>\n",
       "    </tr>\n",
       "    <tr>\n",
       "      <th>AUSTIN TX</th>\n",
       "      <td>1868</td>\n",
       "      <td>3028</td>\n",
       "    </tr>\n",
       "    <tr>\n",
       "      <th>BOSTON MA</th>\n",
       "      <td>5186</td>\n",
       "      <td>24506</td>\n",
       "    </tr>\n",
       "    <tr>\n",
       "      <th>CHICAGO IL</th>\n",
       "      <td>9361</td>\n",
       "      <td>47264</td>\n",
       "    </tr>\n",
       "    <tr>\n",
       "      <th>DALLAS TX</th>\n",
       "      <td>1380</td>\n",
       "      <td>5637</td>\n",
       "    </tr>\n",
       "    <tr>\n",
       "      <th>DENVER CO</th>\n",
       "      <td>1394</td>\n",
       "      <td>2431</td>\n",
       "    </tr>\n",
       "    <tr>\n",
       "      <th>LOS ANGELES CA</th>\n",
       "      <td>19865</td>\n",
       "      <td>28168</td>\n",
       "    </tr>\n",
       "    <tr>\n",
       "      <th>MIAMI FL</th>\n",
       "      <td>2002</td>\n",
       "      <td>4452</td>\n",
       "    </tr>\n",
       "    <tr>\n",
       "      <th>NASHVILLE TN</th>\n",
       "      <td>1841</td>\n",
       "      <td>1169</td>\n",
       "    </tr>\n",
       "    <tr>\n",
       "      <th>NEW YORK NY</th>\n",
       "      <td>13967</td>\n",
       "      <td>85918</td>\n",
       "    </tr>\n",
       "    <tr>\n",
       "      <th>ORANGE COUNTY</th>\n",
       "      <td>1513</td>\n",
       "      <td>2469</td>\n",
       "    </tr>\n",
       "    <tr>\n",
       "      <th>PHOENIX AZ</th>\n",
       "      <td>864</td>\n",
       "      <td>1200</td>\n",
       "    </tr>\n",
       "    <tr>\n",
       "      <th>PITTSBURGH PA</th>\n",
       "      <td>682</td>\n",
       "      <td>631</td>\n",
       "    </tr>\n",
       "    <tr>\n",
       "      <th>SACRAMENTO CA</th>\n",
       "      <td>1334</td>\n",
       "      <td>1033</td>\n",
       "    </tr>\n",
       "    <tr>\n",
       "      <th>SAN DIEGO CA</th>\n",
       "      <td>10672</td>\n",
       "      <td>9816</td>\n",
       "    </tr>\n",
       "    <tr>\n",
       "      <th>SEATTLE WA</th>\n",
       "      <td>2732</td>\n",
       "      <td>5265</td>\n",
       "    </tr>\n",
       "    <tr>\n",
       "      <th>SILICON VALLEY</th>\n",
       "      <td>3797</td>\n",
       "      <td>4722</td>\n",
       "    </tr>\n",
       "    <tr>\n",
       "      <th>TUCSON AZ</th>\n",
       "      <td>799</td>\n",
       "      <td>1132</td>\n",
       "    </tr>\n",
       "    <tr>\n",
       "      <th>WASHINGTON DC</th>\n",
       "      <td>3692</td>\n",
       "      <td>40045</td>\n",
       "    </tr>\n",
       "  </tbody>\n",
       "</table>\n",
       "</div>"
      ],
      "text/plain": [
       "Company         Pink Cab  Yellow Cab\n",
       "City                                \n",
       "ATLANTA GA          1762        5795\n",
       "AUSTIN TX           1868        3028\n",
       "BOSTON MA           5186       24506\n",
       "CHICAGO IL          9361       47264\n",
       "DALLAS TX           1380        5637\n",
       "DENVER CO           1394        2431\n",
       "LOS ANGELES CA     19865       28168\n",
       "MIAMI FL            2002        4452\n",
       "NASHVILLE TN        1841        1169\n",
       "NEW YORK NY        13967       85918\n",
       "ORANGE COUNTY       1513        2469\n",
       "PHOENIX AZ           864        1200\n",
       "PITTSBURGH PA        682         631\n",
       "SACRAMENTO CA       1334        1033\n",
       "SAN DIEGO CA       10672        9816\n",
       "SEATTLE WA          2732        5265\n",
       "SILICON VALLEY      3797        4722\n",
       "TUCSON AZ            799        1132\n",
       "WASHINGTON DC       3692       40045"
      ]
     },
     "execution_count": 793,
     "metadata": {},
     "output_type": "execute_result"
    }
   ],
   "source": [
    "pd.crosstab(City_Company.City, City_Company.Company)"
   ]
  },
  {
   "cell_type": "code",
   "execution_count": 739,
   "id": "6a3661a7",
   "metadata": {},
   "outputs": [
    {
     "data": {
      "text/html": [
       "<div>\n",
       "<style scoped>\n",
       "    .dataframe tbody tr th:only-of-type {\n",
       "        vertical-align: middle;\n",
       "    }\n",
       "\n",
       "    .dataframe tbody tr th {\n",
       "        vertical-align: top;\n",
       "    }\n",
       "\n",
       "    .dataframe thead th {\n",
       "        text-align: right;\n",
       "    }\n",
       "</style>\n",
       "<table border=\"1\" class=\"dataframe\">\n",
       "  <thead>\n",
       "    <tr style=\"text-align: right;\">\n",
       "      <th>Company</th>\n",
       "      <th>Pink Cab</th>\n",
       "      <th>Yellow Cab</th>\n",
       "    </tr>\n",
       "    <tr>\n",
       "      <th>Payment_Mode</th>\n",
       "      <th></th>\n",
       "      <th></th>\n",
       "    </tr>\n",
       "  </thead>\n",
       "  <tbody>\n",
       "    <tr>\n",
       "      <th>Card</th>\n",
       "      <td>50202</td>\n",
       "      <td>162677</td>\n",
       "    </tr>\n",
       "    <tr>\n",
       "      <th>Cash</th>\n",
       "      <td>33623</td>\n",
       "      <td>108530</td>\n",
       "    </tr>\n",
       "  </tbody>\n",
       "</table>\n",
       "</div>"
      ],
      "text/plain": [
       "Company       Pink Cab  Yellow Cab\n",
       "Payment_Mode                      \n",
       "Card             50202      162677\n",
       "Cash             33623      108530"
      ]
     },
     "execution_count": 739,
     "metadata": {},
     "output_type": "execute_result"
    }
   ],
   "source": [
    "pd.crosstab(index= combined_df[\"Payment_Mode\"], columns=combined_df['Company'])"
   ]
  },
  {
   "cell_type": "code",
   "execution_count": 667,
   "id": "3a224dd2",
   "metadata": {},
   "outputs": [
    {
     "data": {
      "text/html": [
       "<div>\n",
       "<style scoped>\n",
       "    .dataframe tbody tr th:only-of-type {\n",
       "        vertical-align: middle;\n",
       "    }\n",
       "\n",
       "    .dataframe tbody tr th {\n",
       "        vertical-align: top;\n",
       "    }\n",
       "\n",
       "    .dataframe thead th {\n",
       "        text-align: right;\n",
       "    }\n",
       "</style>\n",
       "<table border=\"1\" class=\"dataframe\">\n",
       "  <thead>\n",
       "    <tr style=\"text-align: right;\">\n",
       "      <th></th>\n",
       "      <th>Customer ID</th>\n",
       "      <th>Age</th>\n",
       "      <th>KM Travelled</th>\n",
       "      <th>Cost of Trip</th>\n",
       "      <th>Price Charged</th>\n",
       "      <th>Profit</th>\n",
       "    </tr>\n",
       "  </thead>\n",
       "  <tbody>\n",
       "    <tr>\n",
       "      <th>count</th>\n",
       "      <td>355032.000000</td>\n",
       "      <td>355032.000000</td>\n",
       "      <td>355032.000000</td>\n",
       "      <td>355032.000000</td>\n",
       "      <td>355032.000000</td>\n",
       "      <td>355032.000000</td>\n",
       "    </tr>\n",
       "    <tr>\n",
       "      <th>mean</th>\n",
       "      <td>19172.348428</td>\n",
       "      <td>35.335933</td>\n",
       "      <td>22.566598</td>\n",
       "      <td>286.165113</td>\n",
       "      <td>422.742351</td>\n",
       "      <td>136.577238</td>\n",
       "    </tr>\n",
       "    <tr>\n",
       "      <th>std</th>\n",
       "      <td>21006.628869</td>\n",
       "      <td>12.593311</td>\n",
       "      <td>12.234181</td>\n",
       "      <td>157.997145</td>\n",
       "      <td>273.830796</td>\n",
       "      <td>159.790616</td>\n",
       "    </tr>\n",
       "    <tr>\n",
       "      <th>min</th>\n",
       "      <td>1.000000</td>\n",
       "      <td>18.000000</td>\n",
       "      <td>1.900000</td>\n",
       "      <td>19.000000</td>\n",
       "      <td>15.600000</td>\n",
       "      <td>-220.060000</td>\n",
       "    </tr>\n",
       "    <tr>\n",
       "      <th>25%</th>\n",
       "      <td>2698.000000</td>\n",
       "      <td>25.000000</td>\n",
       "      <td>12.000000</td>\n",
       "      <td>151.200000</td>\n",
       "      <td>206.160000</td>\n",
       "      <td>27.780000</td>\n",
       "    </tr>\n",
       "    <tr>\n",
       "      <th>50%</th>\n",
       "      <td>7453.000000</td>\n",
       "      <td>33.000000</td>\n",
       "      <td>22.440000</td>\n",
       "      <td>282.460000</td>\n",
       "      <td>385.870000</td>\n",
       "      <td>81.460000</td>\n",
       "    </tr>\n",
       "    <tr>\n",
       "      <th>75%</th>\n",
       "      <td>36012.000000</td>\n",
       "      <td>42.000000</td>\n",
       "      <td>32.960000</td>\n",
       "      <td>413.680000</td>\n",
       "      <td>582.692500</td>\n",
       "      <td>189.070000</td>\n",
       "    </tr>\n",
       "    <tr>\n",
       "      <th>max</th>\n",
       "      <td>60000.000000</td>\n",
       "      <td>65.000000</td>\n",
       "      <td>48.000000</td>\n",
       "      <td>691.200000</td>\n",
       "      <td>2048.030000</td>\n",
       "      <td>1463.970000</td>\n",
       "    </tr>\n",
       "  </tbody>\n",
       "</table>\n",
       "</div>"
      ],
      "text/plain": [
       "         Customer ID            Age   KM Travelled   Cost of Trip  \\\n",
       "count  355032.000000  355032.000000  355032.000000  355032.000000   \n",
       "mean    19172.348428      35.335933      22.566598     286.165113   \n",
       "std     21006.628869      12.593311      12.234181     157.997145   \n",
       "min         1.000000      18.000000       1.900000      19.000000   \n",
       "25%      2698.000000      25.000000      12.000000     151.200000   \n",
       "50%      7453.000000      33.000000      22.440000     282.460000   \n",
       "75%     36012.000000      42.000000      32.960000     413.680000   \n",
       "max     60000.000000      65.000000      48.000000     691.200000   \n",
       "\n",
       "       Price Charged         Profit  \n",
       "count  355032.000000  355032.000000  \n",
       "mean      422.742351     136.577238  \n",
       "std       273.830796     159.790616  \n",
       "min        15.600000    -220.060000  \n",
       "25%       206.160000      27.780000  \n",
       "50%       385.870000      81.460000  \n",
       "75%       582.692500     189.070000  \n",
       "max      2048.030000    1463.970000  "
      ]
     },
     "execution_count": 667,
     "metadata": {},
     "output_type": "execute_result"
    }
   ],
   "source": [
    "combined_df.describe()"
   ]
  },
  {
   "cell_type": "code",
   "execution_count": 682,
   "id": "a53f10b4",
   "metadata": {},
   "outputs": [
    {
     "data": {
      "text/plain": [
       "Customer ID      7453.00\n",
       "Age                33.00\n",
       "KM Travelled       22.44\n",
       "Cost of Trip      282.46\n",
       "Price Charged     385.87\n",
       "Profit             81.46\n",
       "Name: 0.5, dtype: float64"
      ]
     },
     "execution_count": 682,
     "metadata": {},
     "output_type": "execute_result"
    }
   ],
   "source": [
    "combined_df.quantile()"
   ]
  },
  {
   "cell_type": "code",
   "execution_count": 672,
   "id": "1055980c",
   "metadata": {},
   "outputs": [
    {
     "data": {
      "text/html": [
       "<div>\n",
       "<style scoped>\n",
       "    .dataframe tbody tr th:only-of-type {\n",
       "        vertical-align: middle;\n",
       "    }\n",
       "\n",
       "    .dataframe tbody tr th {\n",
       "        vertical-align: top;\n",
       "    }\n",
       "\n",
       "    .dataframe thead th {\n",
       "        text-align: right;\n",
       "    }\n",
       "</style>\n",
       "<table border=\"1\" class=\"dataframe\">\n",
       "  <thead>\n",
       "    <tr style=\"text-align: right;\">\n",
       "      <th></th>\n",
       "      <th>City</th>\n",
       "      <th>Population</th>\n",
       "      <th>Users</th>\n",
       "    </tr>\n",
       "  </thead>\n",
       "  <tbody>\n",
       "    <tr>\n",
       "      <th>count</th>\n",
       "      <td>20</td>\n",
       "      <td>20</td>\n",
       "      <td>20</td>\n",
       "    </tr>\n",
       "    <tr>\n",
       "      <th>unique</th>\n",
       "      <td>20</td>\n",
       "      <td>20</td>\n",
       "      <td>20</td>\n",
       "    </tr>\n",
       "    <tr>\n",
       "      <th>top</th>\n",
       "      <td>SAN DIEGO CA</td>\n",
       "      <td>1,595,037</td>\n",
       "      <td>17,675</td>\n",
       "    </tr>\n",
       "    <tr>\n",
       "      <th>freq</th>\n",
       "      <td>1</td>\n",
       "      <td>1</td>\n",
       "      <td>1</td>\n",
       "    </tr>\n",
       "  </tbody>\n",
       "</table>\n",
       "</div>"
      ],
      "text/plain": [
       "                City Population   Users\n",
       "count             20         20      20\n",
       "unique            20         20      20\n",
       "top     SAN DIEGO CA  1,595,037  17,675\n",
       "freq               1          1       1"
      ]
     },
     "execution_count": 672,
     "metadata": {},
     "output_type": "execute_result"
    }
   ],
   "source": [
    "City_Data.describe()"
   ]
  },
  {
   "cell_type": "code",
   "execution_count": 705,
   "id": "551f402b",
   "metadata": {},
   "outputs": [
    {
     "data": {
      "text/plain": [
       "array([[<AxesSubplot:title={'center':'Customer ID'}>,\n",
       "        <AxesSubplot:title={'center':'Age'}>,\n",
       "        <AxesSubplot:title={'center':'Date of Travel'}>],\n",
       "       [<AxesSubplot:title={'center':'KM Travelled'}>,\n",
       "        <AxesSubplot:title={'center':'Cost of Trip'}>,\n",
       "        <AxesSubplot:title={'center':'Price Charged'}>],\n",
       "       [<AxesSubplot:title={'center':'Profit'}>, <AxesSubplot:>,\n",
       "        <AxesSubplot:>]], dtype=object)"
      ]
     },
     "execution_count": 705,
     "metadata": {},
     "output_type": "execute_result"
    },
    {
     "data": {
      "image/png": "[encoded data removed]",
      "text/plain": [
       "<Figure size 1080x1440 with 9 Axes>"
      ]
     },
     "metadata": {
      "needs_background": "light"
     },
     "output_type": "display_data"
    }
   ],
   "source": [
    "combined_df.hist(figsize= (15,20) )"
   ]
  },
  {
   "cell_type": "code",
   "execution_count": 721,
   "id": "908fcdac",
   "metadata": {},
   "outputs": [
    {
     "data": {
      "text/plain": [
       "array([<AxesSubplot:title={'center':'Female'}>,\n",
       "       <AxesSubplot:title={'center':'Male'}>], dtype=object)"
      ]
     },
     "execution_count": 721,
     "metadata": {},
     "output_type": "execute_result"
    },
    {
     "data": {
      "image/png": "[encoded data removed]",
      "text/plain": [
       "<Figure size 1080x1440 with 2 Axes>"
      ]
     },
     "metadata": {
      "needs_background": "light"
     },
     "output_type": "display_data"
    }
   ],
   "source": [
    "combined_df.hist(by= \"Gender\",column = \"City\", figsize= (15,20) )"
   ]
  },
  {
   "cell_type": "code",
   "execution_count": 711,
   "id": "b2155425",
   "metadata": {},
   "outputs": [
    {
     "data": {
      "text/plain": [
       "<seaborn.axisgrid.FacetGrid at 0x1b6075fc790>"
      ]
     },
     "execution_count": 711,
     "metadata": {},
     "output_type": "execute_result"
    },
    {
     "data": {
      "image/png": "[encoded data removed]",
      "text/plain": [
       "<Figure size 792.125x720 with 1 Axes>"
      ]
     },
     "metadata": {
      "needs_background": "light"
     },
     "output_type": "display_data"
    }
   ],
   "source": [
    "sns.catplot(x=\"Customer ID\", y=\"City\", hue=\"Gender\", kind=\"bar\", data=combined_df, height=10)"
   ]
  },
  {
   "cell_type": "code",
   "execution_count": 697,
   "id": "eb55251a",
   "metadata": {},
   "outputs": [
    {
     "data": {
      "text/plain": [
       "<AxesSubplot:xlabel='Company', ylabel='Profit'>"
      ]
     },
     "execution_count": 697,
     "metadata": {},
     "output_type": "execute_result"
    },
    {
     "data": {
      "image/png": "[encoded data removed]",
      "text/plain": [
       "<Figure size 432x288 with 1 Axes>"
      ]
     },
     "metadata": {
      "needs_background": "light"
     },
     "output_type": "display_data"
    }
   ],
   "source": [
    "sns.scatterplot(x='Company', y = 'Profit', data = combined_df)"
   ]
  },
  {
   "cell_type": "code",
   "execution_count": 821,
   "id": "eb78a52c",
   "metadata": {},
   "outputs": [],
   "source": [
    "correlation= combined_df.corr()"
   ]
  },
  {
   "cell_type": "code",
   "execution_count": 822,
   "id": "6c9d3d2a",
   "metadata": {},
   "outputs": [
    {
     "data": {
      "text/html": [
       "<div>\n",
       "<style scoped>\n",
       "    .dataframe tbody tr th:only-of-type {\n",
       "        vertical-align: middle;\n",
       "    }\n",
       "\n",
       "    .dataframe tbody tr th {\n",
       "        vertical-align: top;\n",
       "    }\n",
       "\n",
       "    .dataframe thead th {\n",
       "        text-align: right;\n",
       "    }\n",
       "</style>\n",
       "<table border=\"1\" class=\"dataframe\">\n",
       "  <thead>\n",
       "    <tr style=\"text-align: right;\">\n",
       "      <th></th>\n",
       "      <th>Customer ID</th>\n",
       "      <th>Age</th>\n",
       "      <th>KM Travelled</th>\n",
       "      <th>Cost of Trip</th>\n",
       "      <th>Price Charged</th>\n",
       "      <th>Profit</th>\n",
       "    </tr>\n",
       "  </thead>\n",
       "  <tbody>\n",
       "    <tr>\n",
       "      <th>Customer ID</th>\n",
       "      <td>1.000000</td>\n",
       "      <td>-0.004710</td>\n",
       "      <td>0.000109</td>\n",
       "      <td>0.002818</td>\n",
       "      <td>-0.177805</td>\n",
       "      <td>-0.307488</td>\n",
       "    </tr>\n",
       "    <tr>\n",
       "      <th>Age</th>\n",
       "      <td>-0.004710</td>\n",
       "      <td>1.000000</td>\n",
       "      <td>-0.000132</td>\n",
       "      <td>0.000046</td>\n",
       "      <td>-0.002842</td>\n",
       "      <td>-0.004915</td>\n",
       "    </tr>\n",
       "    <tr>\n",
       "      <th>KM Travelled</th>\n",
       "      <td>0.000109</td>\n",
       "      <td>-0.000132</td>\n",
       "      <td>1.000000</td>\n",
       "      <td>0.981836</td>\n",
       "      <td>0.835963</td>\n",
       "      <td>0.461761</td>\n",
       "    </tr>\n",
       "    <tr>\n",
       "      <th>Cost of Trip</th>\n",
       "      <td>0.002818</td>\n",
       "      <td>0.000046</td>\n",
       "      <td>0.981836</td>\n",
       "      <td>1.000000</td>\n",
       "      <td>0.859982</td>\n",
       "      <td>0.484962</td>\n",
       "    </tr>\n",
       "    <tr>\n",
       "      <th>Price Charged</th>\n",
       "      <td>-0.177805</td>\n",
       "      <td>-0.002842</td>\n",
       "      <td>0.835963</td>\n",
       "      <td>0.859982</td>\n",
       "      <td>1.000000</td>\n",
       "      <td>0.863355</td>\n",
       "    </tr>\n",
       "    <tr>\n",
       "      <th>Profit</th>\n",
       "      <td>-0.307488</td>\n",
       "      <td>-0.004915</td>\n",
       "      <td>0.461761</td>\n",
       "      <td>0.484962</td>\n",
       "      <td>0.863355</td>\n",
       "      <td>1.000000</td>\n",
       "    </tr>\n",
       "  </tbody>\n",
       "</table>\n",
       "</div>"
      ],
      "text/plain": [
       "               Customer ID       Age  KM Travelled  Cost of Trip  \\\n",
       "Customer ID       1.000000 -0.004710      0.000109      0.002818   \n",
       "Age              -0.004710  1.000000     -0.000132      0.000046   \n",
       "KM Travelled      0.000109 -0.000132      1.000000      0.981836   \n",
       "Cost of Trip      0.002818  0.000046      0.981836      1.000000   \n",
       "Price Charged    -0.177805 -0.002842      0.835963      0.859982   \n",
       "Profit           -0.307488 -0.004915      0.461761      0.484962   \n",
       "\n",
       "               Price Charged    Profit  \n",
       "Customer ID        -0.177805 -0.307488  \n",
       "Age                -0.002842 -0.004915  \n",
       "KM Travelled        0.835963  0.461761  \n",
       "Cost of Trip        0.859982  0.484962  \n",
       "Price Charged       1.000000  0.863355  \n",
       "Profit              0.863355  1.000000  "
      ]
     },
     "execution_count": 822,
     "metadata": {},
     "output_type": "execute_result"
    }
   ],
   "source": [
    "correlation"
   ]
  },
  {
   "cell_type": "code",
   "execution_count": 824,
   "id": "6506c5db",
   "metadata": {},
   "outputs": [
    {
     "data": {
      "text/plain": [
       "<AxesSubplot:>"
      ]
     },
     "execution_count": 824,
     "metadata": {},
     "output_type": "execute_result"
    },
    {
     "data": {
      "image/png": "[encoded data removed]",
      "text/plain": [
       "<Figure size 432x288 with 2 Axes>"
      ]
     },
     "metadata": {
      "needs_background": "light"
     },
     "output_type": "display_data"
    }
   ],
   "source": [
    "sns.heatmap(correlation, xticklabels= correlation.columns,\n",
    "    yticklabels= correlation.columns,)"
   ]
  },
  {
   "cell_type": "markdown",
   "id": "ca95131b",
   "metadata": {},
   "source": [
    "# After finishing the EDA, the insights can conclude that the Yellow Cab company is the right place to make the investment, due to the following reasons:\n",
    "\n",
    "1- Yellow Cab revenue in years 2016 and 2018 is higher than Pink Cab.\n",
    "<br>2- Yellow Cab attracts a larger number of customers.\n",
    "<br>3- Yellow Cab has higher population all over the states which can be proved by the customers numbers in each state.\n"
   ]
  },
  {
   "cell_type": "code",
   "execution_count": null,
   "id": "c7f75963",
   "metadata": {},
   "outputs": [],
   "source": []
  }
 ],
 "metadata": {
  "kernelspec": {
   "display_name": "Python 3",
   "language": "python",
   "name": "python3"
  },
  "language_info": {
   "codemirror_mode": {
    "name": "ipython",
    "version": 3
   },
   "file_extension": ".py",
   "mimetype": "text/x-python",
   "name": "python",
   "nbconvert_exporter": "python",
   "pygments_lexer": "ipython3",
   "version": "3.8.8"
  }
 },
 "nbformat": 4,
 "nbformat_minor": 5
}
